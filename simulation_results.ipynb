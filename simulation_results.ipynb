{
 "cells": [
  {
   "cell_type": "code",
   "execution_count": 1,
   "id": "fbb7431d-ab66-451e-b781-bf896661fea0",
   "metadata": {},
   "outputs": [],
   "source": [
    "import gc\n",
    "import pickle\n",
    "import os\n",
    "import numpy as np\n",
    "import matplotlib.pyplot as plt\n",
    "from helperfunctions import *"
   ]
  },
  {
   "cell_type": "code",
   "execution_count": 2,
   "id": "c75a3494-8df5-4d93-8e68-76e4ffb6464b",
   "metadata": {},
   "outputs": [],
   "source": [
    "from matplotlib.lines import Line2D\n",
    "from matplotlib.patches import Patch\n",
    "from matplotlib.text import Text"
   ]
  },
  {
   "cell_type": "code",
   "execution_count": 3,
   "id": "eb6de8f2-ba0e-4c61-887f-34bea3ee33a8",
   "metadata": {},
   "outputs": [
    {
     "name": "stdout",
     "output_type": "stream",
     "text": [
      "Warning: File already exists\n",
      "Warning: File already exists\n",
      "Warning: File already exists\n",
      "Warning: File already exists\n",
      "Warning: File already exists\n",
      "Warning: File already exists\n",
      "Warning: File already exists\n",
      "Warning: File already exists\n",
      "Warning: File already exists\n",
      "Warning: File already exists\n",
      "Warning: File already exists\n",
      "Warning: File already exists\n",
      "Warning: File already exists\n",
      "Warning: File already exists\n",
      "Warning: File already exists\n",
      "Warning: File already exists\n",
      "Warning: File already exists\n",
      "Warning: File already exists\n",
      "Warning: File already exists\n",
      "Warning: File already exists\n"
     ]
    }
   ],
   "source": [
    "# Modify input parameters to correspond with desired simulation\n",
    "E1h = 7\n",
    "dE12 = 0.4\n",
    "dE13 = 0.8\n",
    "p2 = 0.15\n",
    "p3 = 0.05\n",
    "masking = 0\n",
    "C0 = 0.008\n",
    "w1 = 0\n",
    "w2 = 0.5\n",
    "q12 = 0\n",
    "q13 = 0\n",
    "q23 = 0\n",
    "memToGCFrac=0\n",
    "outputprob=0.05\n",
    "outputpcfrac=0.1\n",
    "rho=[[0.95, 0.4], [0.4, 0.95]]\n",
    "earlybooster=0\n",
    "\n",
    "def get_results(vaxnum, tmax):\n",
    "    all_results = []\n",
    "    for i in range(0, 10):\n",
    "        first = i*200+1\n",
    "        last = first+199\n",
    "        param=initializeParameters(vaxnum,\n",
    "                 E1h,\n",
    "                 dE12,\n",
    "                 dE13,\n",
    "                 p2,\n",
    "                 p3,\n",
    "                 masking,\n",
    "                 C0,\n",
    "                 w1,\n",
    "                 w2,\n",
    "                 q12,\n",
    "                 q13,\n",
    "                 q23,\n",
    "                 memToGCFrac,\n",
    "                 outputprob,\n",
    "                 outputpcfrac,\n",
    "                 rho,\n",
    "                 earlybooster,\n",
    "                 tmax,\n",
    "                 first,\n",
    "                 last)\n",
    "        fnm = getFileLocation(param)\n",
    "        result = expand(pickle.load(open(fnm[param['vaxnum'] - 1], 'rb')))\n",
    "        all_results.append(result)\n",
    "    return all_results\n",
    "\n",
    "all_results1=get_results(1, 360)\n",
    "all_results2=get_results(2, 360)\n",
    "all_results3=get_results(3, 360)\n",
    "all_results4=get_results(4, 360)"
   ]
  },
  {
   "cell_type": "markdown",
   "id": "7c0ff499-9e18-43ae-b486-954959873037",
   "metadata": {},
   "source": [
    "# Output of Simulation\n",
    "all_resultsX is a list of length 10 with the results of 10 simulations for a given set of conditions.\n",
    "\n",
    "The results from each simulation contain the following. Data structures relevant for analysis in this study are marked with an asterik (*). Details about shape, entries, etc. can be found in runGCs of simulation_code.py:\n",
    "1. param - dict\n",
    "2. naive - array\n",
    "3. gc - dict\\\n",
    "    a. numbytime\\\n",
    "    b. affbytime\\\n",
    "    c. numbylineage\\\n",
    "    d. finalgc\\\n",
    "    e. numbytimeshape\\\n",
    "    f. numbylineageshape\\\n",
    "    g. finalgcshape\n",
    "4. conc - dict\\\n",
    "    a. concarray\\\n",
    "    b. concarray_Epmask\\\n",
    "    c. Kaarray\\\n",
    "    d. Kaarray_var1\\\n",
    "    e. Kaarray_var2\n",
    "5. output - dict\\\n",
    "    a. pcnumbytime\\\n",
    "    b. memnumbytime\\\n",
    "    c. pcaffbytime\\\n",
    "    d. memaffbytime\\\n",
    "    e. finalpb\\\n",
    "    f. finalpc\\\n",
    "    g. finalmem\\\n",
    "    h. memMutations\\\n",
    "    i. pcnumbtimeshape\\\n",
    "    j. memnumbytimeshape\\\n",
    "    k. finalpbshape\\\n",
    "    l. finalpcshape\\\n",
    "    m. finalmemshape\n",
    "6. dead - dict\\\n",
    "    a. plasmaCells\\\n",
    "    b. PCnum - comes from plasmaCells\\\n",
    "    c. plasmaCellsEGC\\\n",
    "    d. numPC - comes from EGCs\\\n",
    "    e. plasmaCellsshape\\\n",
    "    f. plasmaCellsEGCshape\n",
    "7. memoryCellsEGC - array\n",
    "8. plasmaCellsEGC - array\n",
    "9. plasmaCellsEGCshape - tuple\n",
    "10. memoryCellsEGCshape - tuple"
   ]
  },
  {
   "cell_type": "code",
   "execution_count": 5,
   "id": "ed687c8a-4129-433c-a606-2205960f8562",
   "metadata": {},
   "outputs": [],
   "source": [
    "def titer(results, n_sim):\n",
    "    '''\n",
    "    Summary: Calculate the titer by weighting concentration of Ab by affinity.\n",
    "        Results are averaged over n_sim simulations\n",
    "    Input:\n",
    "        results - results from one immmunization\n",
    "        n_sim - number of simulations in results\n",
    "    Output: all_titers - 3x3 array\n",
    "        dim 1: strain\n",
    "        dim 2: epitope\n",
    "        all_titers[i][j] gives the affinity for strain i of antibody targeting epitope j\n",
    "    '''\n",
    "    l = results[0]['conc']['concarray'].shape[2]\n",
    "    Kaarray = ['Kaarray', 'Kaarray_var1', 'Kaarray_var2']\n",
    "    all_titers = [np.ones((3, l)), np.ones((3, l)), np.ones((3, l))] #strain 1, 2, 3\n",
    "    for i in range(n_sim):\n",
    "        Ab = results[i]['conc']['concarray'][1:, 1:, :] # Ab concentration\n",
    "        for strain in range(3):\n",
    "            Ka = results[i]['conc'][Kaarray[strain]] # Affinity for strain\n",
    "            titer = np.sum(Ab * Ka, axis=0) # Titer is concentration of Ab targeting epitope weighted by affinity\n",
    "            all_titers[strain] = all_titers[strain] * titer #for geometric mean\n",
    "    for strain in range(3):\n",
    "        all_titers[strain] = all_titers[strain] ** (1/n_sim)\n",
    "    return all_titers"
   ]
  },
  {
   "cell_type": "code",
   "execution_count": 6,
   "id": "ccc0748b-8890-4fcb-b437-002cbf9c1ecd",
   "metadata": {},
   "outputs": [],
   "source": [
    "t1=titer(all_results1, 10)\n",
    "t2=titer(all_results2, 10)\n",
    "t3=titer(all_results3, 10)\n",
    "t4=titer(all_results4, 10)"
   ]
  },
  {
   "cell_type": "code",
   "execution_count": 12,
   "id": "bd9f3587-c50a-4b45-9bfb-803624dc9452",
   "metadata": {},
   "outputs": [
    {
     "data": {
      "image/png": "[encoded data removed]",
      "text/plain": [
       "<Figure size 432x288 with 1 Axes>"
      ]
     },
     "metadata": {
      "needs_background": "light"
     },
     "output_type": "display_data"
    }
   ],
   "source": [
    "plt.plot(np.concatenate((t1[0][0], t2[0][0], t3[0][0])), label='Strain1 Ep1', color='#1f77b4')\n",
    "plt.plot(np.concatenate((t1[1][1], t2[1][1], t3[1][1])), label='Strain2 Ep2, color='#ff7f0e', linestyle='dotted')\n",
    "plt.plot(np.concatenate((t1[2][2], t2[2][2], t3[2][2])), label='Strain3 Ep3', color='#2ca02c', linestyle='dashdot')\n",
    "\n",
    "plt.semilogy()\n",
    "tix = np.array([0., 720., 1440., 2160., 2880., 3600., 4320.])\n",
    "plt.xticks(tix, tix/4)\n",
    "plt.xlabel('time (day)')\n",
    "plt.ylabel('titer')\n",
    "\n",
    "legend_elements = [Line2D([0], [0], color='#1f77b4', label='VaxStrain'),\n",
    "                   Line2D([0], [0], color='#ff7f0e', linestyle='dotted', label='Strain 2'),\n",
    "                   Line2D([0], [0], color='#2ca02c', linestyle='dashdot', label='Strain 3'),\n",
    "                  ]\n",
    "\n",
    "plt.legend(handles=legend_elements)\n",
    "# plt.savefig('fig/v1_6_titer_vax1-3.png', bbox_inches = 'tight', dpi=300)"
   ]
  },
  {
   "cell_type": "code",
   "execution_count": 14,
   "id": "d1da3145-734d-4e63-a948-d187b77e68e2",
   "metadata": {},
   "outputs": [],
   "source": [
    "def Ag_conc(results, n_sim):\n",
    "    '''\n",
    "    Summary: Returns the Ag concentration, averaged over n_sim simulations\n",
    "    Input:\n",
    "        results - results from one immmunization\n",
    "        n_sim - number of simulations in results\n",
    "    Output: all_Ag - 4 x N array, N=(tmax*4+1)\n",
    "        Dim 1: soluble, IC-FDC targeting epitope 1, IC-FDC targeting epitope 2, IC-FDC targeting epitope 3\n",
    "        Dim 2: time\n",
    "    '''\n",
    "    l = results[0]['conc']['concarray'].shape[2]\n",
    "    all_Ag = [np.ones((1, l)), np.ones((1, l)), np.ones((1, l)), np.ones((1, l))] #soluble, IC-ep1, IC-ep2, IC_ep3\n",
    "    for i in range(n_sim):\n",
    "        for strain in range(4):\n",
    "            Ag = results[i]['conc']['concarray'][0, strain, :]\n",
    "            all_Ag[strain] = all_Ag[strain] * Ag #for geometric mean\n",
    "    for strain in range(4):\n",
    "        all_Ag[strain] = all_Ag[strain] ** (1/n_sim)\n",
    "        all_Ag[strain] = np.swapaxes(all_Ag[strain], 0, 1)\n",
    "    return all_Ag"
   ]
  },
  {
   "cell_type": "code",
   "execution_count": 15,
   "id": "c147d93d-19fe-419a-b5d7-3571776c1091",
   "metadata": {},
   "outputs": [],
   "source": [
    "a1 = Ag_conc(all_results1, 10)\n",
    "a2 = Ag_conc(all_results2, 10)\n",
    "a3 = Ag_conc(all_results3, 10)\n",
    "a4 = Ag_conc(all_results4, 10)"
   ]
  },
  {
   "cell_type": "code",
   "execution_count": 18,
   "id": "801ad7cb-0dae-45c2-b52b-4e965869e2dc",
   "metadata": {},
   "outputs": [
    {
     "data": {
      "image/png": "[encoded data removed]",
      "text/plain": [
       "<Figure size 432x288 with 1 Axes>"
      ]
     },
     "metadata": {
      "needs_background": "light"
     },
     "output_type": "display_data"
    }
   ],
   "source": [
    "# ignore soluble Ag aX[0]\n",
    "# maximum concentration during simulation, summed over all epitopes\n",
    "a1_tot = np.sum((np.max(a1[1]), np.max(a1[2]), np.max(a1[3]))) # Vax 1\n",
    "a2_tot = np.sum((np.max(a2[1]), np.max(a2[2]), np.max(a2[3]))) # Vax 2\n",
    "a3_tot = np.sum((np.max(a3[1]), np.max(a3[2]), np.max(a3[3]))) # Vax 3\n",
    "\n",
    "v = np.array([1, 2, 3])\n",
    "plt.bar(v, [a1_tot, a2_tot, a3_tot], width=0.5)\n",
    "\n",
    "plt.semilogy()\n",
    "plt.xticks(v)\n",
    "plt.ylabel('Antigen concentration on FDC')\n",
    "plt.xlabel('Immunization')\n",
    "# plt.savefig('fig/v1_6_Ag_vax1-3.png', bbox_inches = 'tight', dpi=300)"
   ]
  },
  {
   "cell_type": "code",
   "execution_count": 35,
   "id": "92c61990-7dcf-47d9-b886-1f90bd3ebd33",
   "metadata": {},
   "outputs": [],
   "source": [
    "def mem_binding_aff(results, bins):\n",
    "    '''\n",
    "    Summary: Counts the number of GC-produced memory cells in each binding affinity bin\n",
    "        Results are averaged over 10 simulations\n",
    "    Input:\n",
    "        results - results from one immmunization including 10 simulations\n",
    "        bins - np.array specifiying affinity bins\n",
    "    Output:\n",
    "        dom_counts - distribution of memory cells targeting dominant epitope (epitope 1)\n",
    "        sub1_counts - distribution of memory cells targeting first subdominant epitope (epitope 2)\n",
    "        sub2_counts - distribution of memory cells targeting second subdominant epitope (epitope 3)\n",
    "    '''\n",
    "    dom_counts = np.zeros(bins[:-1].shape)\n",
    "    sub1_counts = np.zeros(bins[:-1].shape)\n",
    "    sub2_counts = np.zeros(bins[:-1].shape)\n",
    "    for i in range(0, 10):\n",
    "        finalmem = alignLeft(flatten1D(results[i]['output']['finalmem']), 1)\n",
    "        dom = finalmem[1,:]==1\n",
    "        sub1 = finalmem[1,:]==2\n",
    "        sub2 = finalmem[1,:]==3\n",
    "        WT_aff = finalmem[2,:]\n",
    "        WT_dom, _ = np.histogram(dom*WT_aff, bins)\n",
    "        WT_sub1, _ = np.histogram(sub1*WT_aff, bins)\n",
    "        WT_sub2, _ = np.histogram(sub2*WT_aff, bins)\n",
    "        dom_counts = dom_counts + WT_dom\n",
    "        sub1_counts = sub1_counts + WT_sub1\n",
    "        sub2_counts = sub2_counts + WT_sub2\n",
    "    dom_counts = dom_counts / 10\n",
    "    sub1_counts = sub1_counts / 10\n",
    "    sub2_counts = sub2_counts / 10\n",
    "    return dom_counts, sub1_counts, sub2_counts"
   ]
  },
  {
   "cell_type": "code",
   "execution_count": 36,
   "id": "c0f9d7f6-5efb-4735-acb3-877574cde77f",
   "metadata": {},
   "outputs": [],
   "source": [
    "b = np.arange(6, 12, 0.5)\n",
    "mem_binding_v1 = mem_binding_aff(all_results1, b)\n",
    "mem_binding_v2 = mem_binding_aff(all_results2, b)\n",
    "mem_binding_v3 = mem_binding_aff(all_results3, b)\n",
    "mem_binding_v4 = mem_binding_aff(all_results4, b)"
   ]
  },
  {
   "cell_type": "code",
   "execution_count": 41,
   "id": "d5f5941b-5e50-47d3-94ea-fac17a94c261",
   "metadata": {},
   "outputs": [
    {
     "data": {
      "image/png": "[encoded data removed]",
      "text/plain": [
       "<Figure size 432x288 with 1 Axes>"
      ]
     },
     "metadata": {
      "needs_background": "light"
     },
     "output_type": "display_data"
    }
   ],
   "source": [
    "b = np.arange(6, 12, 0.5)\n",
    "plt.bar(b[:-1]-0.1, mem_binding_v1[0], width=0.1, align='center', label = 'ep 1')\n",
    "plt.bar(b[:-1], mem_binding_v1[1], width=0.1, align='center', label = 'ep 2')\n",
    "plt.bar(b[:-1]+0.1, mem_binding_v1[2], width=0.1, align='center', label = 'ep 3')\n",
    "plt.semilogy()\n",
    "\n",
    "ytix=[np.array([1.e-1, 1.e+0, 1.e+1, 1.e+2, 1.e+3, 1.e+4, 1.e+5, 1.e+6]), \\\n",
    "        [Text(0, 0.1, '$\\\\mathdefault{10^{-1}}$'), Text(0, 1.0, '$\\\\mathdefault{10^{0}}$'), Text(0, 10.0, '$\\\\mathdefault{10^{1}}$'), Text(0, 100.0, '$\\\\mathdefault{10^{2}}$'), Text(0, 1000.0, '$\\\\mathdefault{10^{3}}$'), Text(0, 10000.0, '$\\\\mathdefault{10^{4}}$'), Text(0, 100000.0, '$\\\\mathdefault{10^{5}}$'), Text(0, 100000.0, '$\\\\mathdefault{10^{6}}$')]]\n",
    "plt.yticks(ytix[0], ytix[1])\n",
    "\n",
    "plt.xlabel('Binding Affinity ($-logK_d$)')\n",
    "plt.ylabel('Memory Cells')\n",
    "plt.title('Vax1')\n",
    "plt.legend()\n",
    "# plt.savefig('fig/v1_6_mem_binding_vax1.png', bbox_inches = 'tight', dpi=300)"
   ]
  },
  {
   "cell_type": "code",
   "execution_count": 43,
   "id": "3139102e-a7c1-4c51-b431-62874b6848c1",
   "metadata": {},
   "outputs": [
    {
     "data": {
      "image/png": "[encoded data removed]",
      "text/plain": [
       "<Figure size 432x288 with 1 Axes>"
      ]
     },
     "metadata": {
      "needs_background": "light"
     },
     "output_type": "display_data"
    }
   ],
   "source": [
    "plt.bar(b[:-1]-0.1, mem_binding_v2[0], width=0.1, align='center', label='ep 1')\n",
    "plt.bar(b[:-1], mem_binding_v2[1], width=0.1, align='center', label='ep 2')\n",
    "plt.bar(b[:-1]+0.1, mem_binding_v2[2], width=0.1, align='center', label='ep 3')\n",
    "plt.semilogy()\n",
    "\n",
    "ytix=[np.array([1.e-1, 1.e+0, 1.e+1, 1.e+2, 1.e+3, 1.e+4, 1.e+5, 1.e+6]), \\\n",
    "        [Text(0, 0.1, '$\\\\mathdefault{10^{-1}}$'), Text(0, 1.0, '$\\\\mathdefault{10^{0}}$'), Text(0, 10.0, '$\\\\mathdefault{10^{1}}$'), Text(0, 100.0, '$\\\\mathdefault{10^{2}}$'), Text(0, 1000.0, '$\\\\mathdefault{10^{3}}$'), Text(0, 10000.0, '$\\\\mathdefault{10^{4}}$'), Text(0, 100000.0, '$\\\\mathdefault{10^{5}}$'), Text(0, 100000.0, '$\\\\mathdefault{10^{6}}$')]]\n",
    "plt.yticks(ytix[0], ytix[1])\n",
    "\n",
    "plt.xlabel('Binding Affinity ($-logK_d$)')\n",
    "plt.ylabel('Memory Cells')\n",
    "plt.title('Vax2')\n",
    "plt.legend()\n",
    "# plt.savefig('fig/v1_6_mem_binding_vax2.png', bbox_inches = 'tight', dpi=300)"
   ]
  },
  {
   "cell_type": "code",
   "execution_count": 44,
   "id": "38ac5fbe-d98c-4525-8799-9f6a7915c392",
   "metadata": {},
   "outputs": [
    {
     "data": {
      "image/png": "[encoded data removed]",
      "text/plain": [
       "<Figure size 432x288 with 1 Axes>"
      ]
     },
     "metadata": {
      "needs_background": "light"
     },
     "output_type": "display_data"
    }
   ],
   "source": [
    "plt.bar(b[:-1]-0.1, mem_binding_v3[0], width=0.1, align='center', label='ep 1')\n",
    "plt.bar(b[:-1], mem_binding_v3[1], width=0.1, align='center', label='ep 2')\n",
    "plt.bar(b[:-1]+0.1, mem_binding_v3[2], width=0.1, align='center', label='ep 3')\n",
    "plt.semilogy()\n",
    "\n",
    "ytix=[np.array([1.e-1, 1.e+0, 1.e+1, 1.e+2, 1.e+3, 1.e+4, 1.e+5, 1.e+6]), \\\n",
    "        [Text(0, 0.1, '$\\\\mathdefault{10^{-1}}$'), Text(0, 1.0, '$\\\\mathdefault{10^{0}}$'), Text(0, 10.0, '$\\\\mathdefault{10^{1}}$'), Text(0, 100.0, '$\\\\mathdefault{10^{2}}$'), Text(0, 1000.0, '$\\\\mathdefault{10^{3}}$'), Text(0, 10000.0, '$\\\\mathdefault{10^{4}}$'), Text(0, 100000.0, '$\\\\mathdefault{10^{5}}$'), Text(0, 100000.0, '$\\\\mathdefault{10^{6}}$')]]\n",
    "plt.yticks(ytix[0], ytix[1])\n",
    "\n",
    "plt.xlabel('Binding Affinity ($-logK_d$)')\n",
    "plt.ylabel('Memory Cells')\n",
    "plt.title('Vax3')\n",
    "plt.legend()\n",
    "# plt.savefig('fig/v1_6_mem_binding_vax3.png', bbox_inches = 'tight', dpi=300)"
   ]
  },
  {
   "cell_type": "code",
   "execution_count": 45,
   "id": "de21cda0-e506-4f6d-a133-31d81d3677a9",
   "metadata": {},
   "outputs": [
    {
     "data": {
      "image/png": "[encoded data removed]",
      "text/plain": [
       "<Figure size 432x288 with 1 Axes>"
      ]
     },
     "metadata": {
      "needs_background": "light"
     },
     "output_type": "display_data"
    }
   ],
   "source": [
    "plt.bar(b[:-1]-0.1, mem_binding_v4[0], width=0.1, align='center', label='ep 1')\n",
    "plt.bar(b[:-1], mem_binding_v4[1], width=0.1, align='center', label='ep 2')\n",
    "plt.bar(b[:-1]+0.1, mem_binding_v4[2], width=0.1, align='center', label='ep 3')\n",
    "plt.semilogy()\n",
    "\n",
    "ytix=[np.array([1.e-1, 1.e+0, 1.e+1, 1.e+2, 1.e+3, 1.e+4, 1.e+5, 1.e+6]), \\\n",
    "        [Text(0, 0.1, '$\\\\mathdefault{10^{-1}}$'), Text(0, 1.0, '$\\\\mathdefault{10^{0}}$'), Text(0, 10.0, '$\\\\mathdefault{10^{1}}$'), Text(0, 100.0, '$\\\\mathdefault{10^{2}}$'), Text(0, 1000.0, '$\\\\mathdefault{10^{3}}$'), Text(0, 10000.0, '$\\\\mathdefault{10^{4}}$'), Text(0, 100000.0, '$\\\\mathdefault{10^{5}}$'), Text(0, 100000.0, '$\\\\mathdefault{10^{6}}$')]]\n",
    "plt.yticks(ytix[0], ytix[1])\n",
    "\n",
    "plt.xlabel('Binding Affinity ($-logK_d$)')\n",
    "plt.ylabel('Memory Cells')\n",
    "plt.title('Vax4')\n",
    "plt.legend()\n",
    "# plt.savefig('fig/v1_6_mem_binding_vax4.png', bbox_inches = 'tight', dpi=300)"
   ]
  }
 ],
 "metadata": {
  "kernelspec": {
   "display_name": "Python 3 (ipykernel)",
   "language": "python",
   "name": "python3"
  },
  "language_info": {
   "codemirror_mode": {
    "name": "ipython",
    "version": 3
   },
   "file_extension": ".py",
   "mimetype": "text/x-python",
   "name": "python",
   "nbconvert_exporter": "python",
   "pygments_lexer": "ipython3",
   "version": "3.9.7"
  }
 },
 "nbformat": 4,
 "nbformat_minor": 5
}
